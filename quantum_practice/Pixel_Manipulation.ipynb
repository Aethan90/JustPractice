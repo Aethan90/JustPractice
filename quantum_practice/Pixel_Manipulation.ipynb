{
 "cells": [
  {
   "cell_type": "code",
   "execution_count": 52,
   "metadata": {},
   "outputs": [
    {
     "name": "stdout",
     "output_type": "stream",
     "text": [
      "Collecting apng\n",
      "  Downloading https://files.pythonhosted.org/packages/7b/75/261c53288e91d978f4bd9066a73ddcb4cfb047b8d3a21e6255889eb7deae/apng-0.3.3-py2.py3-none-any.whl\n",
      "Installing collected packages: apng\n",
      "Successfully installed apng-0.3.3\n"
     ]
    }
   ],
   "source": [
    "!pip install apng"
   ]
  },
  {
   "cell_type": "code",
   "execution_count": 23,
   "metadata": {},
   "outputs": [],
   "source": [
    "frogger = {(0,0):(255,255,255),\n",
    "         (0,1):(0,255,0),\n",
    "         (0,2):(255,255,255),\n",
    "         (0,3):(255,255,255),\n",
    "         (0,4):(0,255,0),\n",
    "         (0,5):(0,255,0),\n",
    "         (0,6):(0,255,0),\n",
    "         (0,7):(0,255,0),\n",
    "         (0,8):(255,255,255),\n",
    "         (0,9):(255,255,255),\n",
    "         (0,10):(0,255,0),\n",
    "         (0,11):(255,255,255),\n",
    "         (1,0):(0,255,0),\n",
    "         (1,1):(0,255,0),\n",
    "         (1,2):(255,255,255),\n",
    "         (1,3):(255,0,0),\n",
    "         (1,4):(0,255,0),\n",
    "         (1,5):(0,255,0),\n",
    "         (1,6):(0,255,0),\n",
    "         (1,7):(0,255,0),\n",
    "         (1,8):(255,0,0),\n",
    "         (1,9):(255,255,255),\n",
    "         (1,10):(0,255,0),\n",
    "         (1,11):(0,255,0),\n",
    "         (2,0):(255,255,255),\n",
    "         (2,1):(0,255,0),\n",
    "         (2,2):(255,255,255),\n",
    "         (2,3):(0,255,0),\n",
    "         (2,4):(0,255,0),\n",
    "         (2,5):(0,255,0),\n",
    "         (2,6):(0,255,0),\n",
    "         (2,7):(0,255,0),\n",
    "         (2,8):(0,255,0),\n",
    "         (2,9):(255,255,255),\n",
    "         (2,10):(0,255,0),\n",
    "         (2,11):(255,255,255),\n",
    "         (3,0):(255,255,255),\n",
    "         (3,1):(0,255,0),\n",
    "         (3,2):(0,255,0),\n",
    "         (3,3):(0,255,0),\n",
    "         (3,4):(0,255,0),\n",
    "         (3,5):(0,255,0),\n",
    "         (3,6):(0,255,0),\n",
    "         (3,7):(0,255,0),\n",
    "         (3,8):(0,255,0),\n",
    "         (3,9):(0,255,0),\n",
    "         (3,10):(0,255,0),\n",
    "         (3,11):(255,255,255),\n",
    "         (4,0):(255,255,255),\n",
    "         (4,1):(255,255,255),\n",
    "         (4,2):(255,255,255),\n",
    "         (4,3):(0,255,0),\n",
    "         (4,4):(0,255,0),\n",
    "         (4,5):(0,255,0),\n",
    "         (4,6):(0,255,0),\n",
    "         (4,7):(0,255,0),\n",
    "         (4,8):(0,255,0),\n",
    "         (4,9):(255,255,255),\n",
    "         (4,10):(255,255,255),\n",
    "         (4,11):(255,255,255),\n",
    "         (5,0):(255,255,255),\n",
    "         (5,1):(0,255,0),\n",
    "         (5,2):(0,255,0),\n",
    "         (5,3):(0,255,0),\n",
    "         (5,4):(0,255,0),\n",
    "         (5,5):(0,255,0),\n",
    "         (5,6):(0,255,0),\n",
    "         (5,7):(0,255,0),\n",
    "         (5,8):(0,255,0),\n",
    "         (5,9):(0,255,0),\n",
    "         (5,10):(0,255,0),\n",
    "         (5,11):(255,255,255),\n",
    "         (6,0):(255,255,255),\n",
    "         (6,1):(0,255,0),\n",
    "         (6,2):(255,255,255),\n",
    "         (6,3):(0,255,0),\n",
    "         (6,4):(0,255,0),\n",
    "         (6,5):(0,255,0),\n",
    "         (6,6):(0,255,0),\n",
    "         (6,7):(0,255,0),\n",
    "         (6,8):(0,255,0),\n",
    "         (6,9):(255,255,255),\n",
    "         (6,10):(0,255,0),\n",
    "         (6,11):(255,255,255),\n",
    "         (7,0):(0,255,0),\n",
    "         (7,1):(0,255,0),\n",
    "         (7,2):(255,255,255),\n",
    "         (7,3):(255,255,255),\n",
    "         (7,4):(0,255,0),\n",
    "         (7,5):(0,255,0),\n",
    "         (7,6):(0,255,0),\n",
    "         (7,7):(0,255,0),\n",
    "         (7,8):(255,255,255),\n",
    "         (7,9):(255,255,255),\n",
    "         (7,10):(0,255,0),\n",
    "         (7,11):(0,255,0),\n",
    "         (8,0):(255,255,255),\n",
    "         (8,1):(0,255,0),\n",
    "         (8,2):(255,255,255),\n",
    "         (8,3):(255,255,255),\n",
    "         (8,4):(255,255,255),\n",
    "         (8,5):(255,255,255),\n",
    "         (8,6):(255,255,255),\n",
    "         (8,7):(255,255,255),\n",
    "         (8,8):(255,255,255),\n",
    "         (8,9):(255,255,255),\n",
    "         (8,10):(0,255,0),\n",
    "         (8,11):(255,255,255),\n",
    "        \n",
    "}"
   ]
  },
  {
   "cell_type": "code",
   "execution_count": 24,
   "metadata": {},
   "outputs": [],
   "source": [
    "from PIL import Image\n",
    "from IPython.display import display"
   ]
  },
  {
   "cell_type": "code",
   "execution_count": 25,
   "metadata": {
    "scrolled": true
   },
   "outputs": [
    {
     "data": {
      "image/png": "[encoded data removed]",
      "text/plain": [
       "<PIL.PngImagePlugin.PngImageFile image mode=RGB size=256x256 at 0x7F7AAC615208>"
      ]
     },
     "metadata": {},
     "output_type": "display_data"
    }
   ],
   "source": [
    "def save_image(image,filename='frogger.png',scale = None):\n",
    "    img = Image.new('RGB',(9,12))\n",
    "    \n",
    "    for x in range(img.size[0]):\n",
    "        for y in range(img.size[1]):\n",
    "            img.load()[x,y] = image[x,y]\n",
    "    \n",
    "    if scale:\n",
    "        img = img.resize((256,256))\n",
    "        \n",
    "    img.save('outputs/'+filename)\n",
    "    \n",
    "save_image(frogger,scale=[300,300],filename='frogger.png')\n",
    "display(Image.open('outputs/frogger.png'))"
   ]
  },
  {
   "cell_type": "code",
   "execution_count": 2,
   "metadata": {},
   "outputs": [],
   "source": [
    "n = 8 #number of qubits needed for all the pixels"
   ]
  },
  {
   "cell_type": "code",
   "execution_count": 3,
   "metadata": {},
   "outputs": [],
   "source": [
    "import numpy as np\n",
    "\n",
    "L = int(2**(n/2))\n",
    "\n",
    "grid = {}\n",
    "for x in range(L):\n",
    "    for y in range(L):\n",
    "        grid[(x,y)] = ''\n",
    "\n",
    "for (x,y) in grid:\n",
    "    for j in range(n):\n",
    "        if(j%2)==0:\n",
    "            xx = np.floor(x/2**(j/2))\n",
    "            grid[(x,y)] = str(int((xx + np.floor(xx/2) )%2 )) + grid[(x,y)]\n",
    "        else:\n",
    "            yy = np.floor(y/2**((j-1)/2))\n",
    "            grid[(x,y)] = str(int((yy + np.floor(yy/2) )%2 )) + grid[(x,y)]"
   ]
  },
  {
   "cell_type": "code",
   "execution_count": 32,
   "metadata": {
    "scrolled": true
   },
   "outputs": [],
   "source": [
    "def image2state(image,grid):\n",
    "    \n",
    "    N = len(grid)\n",
    "    state = [[0]*N,[0]*N,[0]*N] # different states for R, G, B\n",
    "    \n",
    "    for pos in image:\n",
    "        for j in range(3):\n",
    "            state[j][int(grid[pos],2)] = np.sqrt(image[pos][j]) #amplitude is square root of color value\n",
    "                        \n",
    "    for j in range(3):\n",
    "        Z = sum(np.absolute(state[j])**2)\n",
    "        state[j] = [amp / np.sqrt(Z) for amp in state[j]] #amplitudes are normalized\n",
    "        \n",
    "    return state\n",
    "\n",
    "state = image2state(frogger,grid)"
   ]
  },
  {
   "cell_type": "code",
   "execution_count": 33,
   "metadata": {},
   "outputs": [],
   "source": [
    "from qiskit import *\n",
    "\n",
    "backend = Aer.get_backend('statevector_simulator')"
   ]
  },
  {
   "cell_type": "code",
   "execution_count": 34,
   "metadata": {},
   "outputs": [],
   "source": [
    "def ket2counts (ket):\n",
    "    \n",
    "    counts = {}\n",
    "    N = len(ket)\n",
    "    n = int(np.log(N)/np.log(2) ) # qubit number \n",
    "    \n",
    "    for j in range(N):\n",
    "        string = bin(j)[2:]\n",
    "        string = '0'*(n-len(string)) + string\n",
    "        counts[string] = np.absolute(ket[j])**2 #probabilities = amplitudes^2\n",
    "        \n",
    "    return counts"
   ]
  },
  {
   "cell_type": "code",
   "execution_count": 35,
   "metadata": {},
   "outputs": [],
   "source": [
    "q = QuantumRegister(n)\n",
    "\n",
    "counts= []\n",
    "for j in range(3):\n",
    "    qc = QuantumCircuit(q)\n",
    "    qc.initialize(state[j], q)\n",
    "    job = execute(qc,backend)\n",
    "    counts.append(ket2counts(job.result().get_statevector() )) "
   ]
  },
  {
   "cell_type": "code",
   "execution_count": 48,
   "metadata": {},
   "outputs": [
    {
     "data": {
      "image/png": "[encoded data removed]",
      "text/plain": [
       "<PIL.PngImagePlugin.PngImageFile image mode=RGB size=256x256 at 0x7F7A68F37048>"
      ]
     },
     "metadata": {},
     "output_type": "display_data"
    }
   ],
   "source": [
    "def counts2image(counts,grid):\n",
    "    \n",
    "    image = {pos:[0,0,0] for pos in grid}\n",
    "    \n",
    "    for j in range(3):\n",
    "        \n",
    "        rescale = 255/max(counts[j].values()) #max probability becomes value of 255\n",
    "        \n",
    "        for pos in image:\n",
    "            try:\n",
    "                image[pos][j] = int(rescale*counts[j][grid[pos]] )\n",
    "            except:\n",
    "                image[pos][j] = int(rescale*counts[j][grid[pos]] )\n",
    "    for pos in image:\n",
    "        image[pos] = tuple(image[pos])\n",
    "            \n",
    "    return image\n",
    "    \n",
    "save_image(counts2image(counts,grid), scale = [300,300], filename = 'frogger2.png')\n",
    "display(Image.open('outputs/frogger2.png'))"
   ]
  },
  {
   "cell_type": "code",
   "execution_count": 49,
   "metadata": {},
   "outputs": [],
   "source": [
    "frame_num = 30"
   ]
  },
  {
   "cell_type": "code",
   "execution_count": 64,
   "metadata": {},
   "outputs": [],
   "source": [
    "from apng import APNG\n",
    "import os\n",
    "\n",
    "state = image2state(frogger,grid)\n",
    "\n",
    "filenames = []\n",
    "\n",
    "for f in range(frame_num):\n",
    "    \n",
    "    circuits = []\n",
    "    \n",
    "    for j in range(3):\n",
    "        qc = QuantumCircuit(q)\n",
    "        qc.initialize(state[j], q)\n",
    "        qc.ry(2*np.pi*f/frame_num, q)\n",
    "        circuits.append(qc)\n",
    "        \n",
    "    job = execute(circuits, backend)\n",
    "    \n",
    "    counts = []\n",
    "    \n",
    "    for j in range(3):\n",
    "        counts.append(ket2counts(job.result().get_statevector(circuits[j])))\n",
    "        \n",
    "    frame = counts2image(counts,grid)\n",
    "    \n",
    "    filename = 'frame_'+str(f)+'.png'\n",
    "    save_image(counts2image(counts,grid), scale =[300,300], filename = filename)\n",
    "    filenames.append('outputs/'+ filename)\n",
    "    \n",
    "APNG.from_files(filenames, delay = 250).save('outputs/froggeranimation.png')\n",
    "\n",
    "for file in filenames:\n",
    "    os.remove(file)\n",
    "\n"
   ]
  },
  {
   "cell_type": "code",
   "execution_count": null,
   "metadata": {},
   "outputs": [],
   "source": []
  }
 ],
 "metadata": {
  "kernelspec": {
   "display_name": "Python 3",
   "language": "python",
   "name": "python3"
  },
  "language_info": {
   "codemirror_mode": {
    "name": "ipython",
    "version": 3
   },
   "file_extension": ".py",
   "mimetype": "text/x-python",
   "name": "python",
   "nbconvert_exporter": "python",
   "pygments_lexer": "ipython3",
   "version": "3.7.3"
  }
 },
 "nbformat": 4,
 "nbformat_minor": 2
}
