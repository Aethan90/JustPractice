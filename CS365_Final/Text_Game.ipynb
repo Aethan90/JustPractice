{
 "cells": [
  {
   "cell_type": "code",
   "execution_count": 1,
   "metadata": {},
   "outputs": [],
   "source": [
    "import qiskit\n",
    "from qiskit import IBMQ, BasicAer\n",
    "from qiskit import ClassicalRegister, QuantumRegister, QuantumCircuit"
   ]
  },
  {
   "cell_type": "code",
   "execution_count": 3,
   "metadata": {},
   "outputs": [
    {
     "data": {
      "text/plain": [
       "<qiskit.circuit.instructionset.InstructionSet at 0x7f8e20fb6be0>"
      ]
     },
     "execution_count": 3,
     "metadata": {},
     "output_type": "execute_result"
    }
   ],
   "source": [
    "qu = QuantumRegister(2)\n",
    "cu = ClassicalRegister(2)\n",
    "qucir= QuantumCircuit(qu, cu)\n",
    "\n",
    "qucir.h(qu) #superposition\n",
    "qucir.measure(qu,cu)"
   ]
  },
  {
   "cell_type": "code",
   "execution_count": 4,
   "metadata": {},
   "outputs": [],
   "source": [
    "def quarter(number):\n",
    "    for key in number.keys():\n",
    "        cur_quarter = key\n",
    "    if cur_quarter == '00':\n",
    "        print('Quarter 1')\n",
    "    elif cur_quarter == '01':\n",
    "        print('Quarter 2')\n",
    "    elif cur_quarter == '10':\n",
    "        print('Quarter 3')\n",
    "    elif cur_quarter == '11':\n",
    "        print('Quarter 4')"
   ]
  },
  {
   "cell_type": "code",
   "execution_count": 5,
   "metadata": {},
   "outputs": [
    {
     "data": {
      "text/plain": [
       "<qiskit.circuit.instructionset.InstructionSet at 0x7f8e20f19160>"
      ]
     },
     "execution_count": 5,
     "metadata": {},
     "output_type": "execute_result"
    }
   ],
   "source": [
    "\n",
    "# set up Quantum Register and Classical Register for 3 qubits\n",
    "q = QuantumRegister(3)\n",
    "c = ClassicalRegister(3)\n",
    "# Create a Quantum Circuit\n",
    "qc = QuantumCircuit(q, c)\n",
    "qc.h(q) #puts qubits into superposition\n",
    "qc.measure(q, c) #measure the qubits and place the value into classical register"
   ]
  },
  {
   "cell_type": "code",
   "execution_count": 9,
   "metadata": {},
   "outputs": [
    {
     "data": {
      "text/plain": [
       "<qiskit.circuit.instructionset.InstructionSet at 0x7f8e20f19f28>"
      ]
     },
     "execution_count": 9,
     "metadata": {},
     "output_type": "execute_result"
    }
   ],
   "source": [
    "# set up Quantum Register and Classical Register for 3 qubits\n",
    "qr = QuantumRegister(3)\n",
    "cr = ClassicalRegister(3)\n",
    "# Create a Quantum Circuit\n",
    "qcd = QuantumCircuit(qr, cr)\n",
    "qcd.x(qr[0]) #Bit-Flip qubit[0]\n",
    "qcd.cx(qr[0],qr[1]) #entangles qubit[0] with qubit[1] and qubit[2]\n",
    "qcd.cx(qr[0],qr[2])\n",
    "qcd.measure(qr, cr) #measure the qubits and place the value into classical register"
   ]
  },
  {
   "cell_type": "code",
   "execution_count": 10,
   "metadata": {},
   "outputs": [],
   "source": [
    "def Player1(result):\n",
    "    for key in result.keys():\n",
    "        state = key\n",
    "    print('Player 1 dribbles down the court:')\n",
    "    if state == '000':\n",
    "        print('Turnover: Bad pass')\n",
    "    elif state == '001':\n",
    "        print('Passes to his teammate...')\n",
    "    elif state == '010':\n",
    "        print('Fouled going to the hoop...')\n",
    "    elif state == '011':\n",
    "        print('Hits the jump shot...+2 points')\n",
    "    elif state == '100':\n",
    "        print('Hits the three...+3 points')\n",
    "    elif state == '101':\n",
    "        print('Alley Oop!')\n",
    "    elif state == '110':\n",
    "        print('Posterizes his defender!')\n",
    "    elif state == '111':\n",
    "        print('Game Winner!')\n",
    "    else:\n",
    "        print('Player trips over imaginary line, hurts himself. Game Over')"
   ]
  },
  {
   "cell_type": "code",
   "execution_count": 11,
   "metadata": {},
   "outputs": [],
   "source": [
    "def Player2(result):\n",
    "    for key in result.keys():\n",
    "        state = key\n",
    "    print('Player 2 is on defense:')\n",
    "    if state == '000':\n",
    "        print('Ankles broken')\n",
    "    elif state == '001':\n",
    "        print('Steals the dribble')\n",
    "    elif state == '010':\n",
    "        print('Blocks the shot')\n",
    "    elif state == '011':\n",
    "        print('Takes a charge')\n",
    "    elif state == '100':\n",
    "        print('Foul!')\n",
    "    elif state == '101':\n",
    "        print('Double team')\n",
    "    elif state == '110':\n",
    "        print('Full court press')\n",
    "    elif state == '111':\n",
    "        print('Nice try, Elbow to the face: Injured, Game Over')\n",
    "    else:\n",
    "        print('Player trips over imaginary line, hurts himself.')"
   ]
  },
  {
   "cell_type": "code",
   "execution_count": 12,
   "metadata": {
    "scrolled": true
   },
   "outputs": [
    {
     "name": "stdout",
     "output_type": "stream",
     "text": [
      "Quarter 3\n",
      "Player 1 dribbles down the court:\n",
      "Posterizes his defender!\n",
      "Player 2 is on defense:\n",
      "Nice try, Elbow to the face: Injured, Game Over\n"
     ]
    }
   ],
   "source": [
    "from qiskit import execute\n",
    "\n",
    "#while quarter(result_quarter) != '11':\n",
    "job = execute(qucir, backend = BasicAer.get_backend('qasm_simulator'),shots = 1)\n",
    "result_quarter = job.result().get_counts(qucir)\n",
    "string = quarter(result_quarter)  \n",
    "\n",
    "job = execute(qc, backend = BasicAer.get_backend('qasm_simulator'), shots =1)\n",
    "result_offense = job.result().get_counts(qc)\n",
    "Player1(result_offense)\n",
    "    \n",
    "job = execute(qcd, backend = BasicAer.get_backend('qasm_simulator'), shots =1)\n",
    "result_defense = job.result().get_counts(qcd)\n",
    "Player2(result_defense)"
   ]
  },
  {
   "cell_type": "code",
   "execution_count": null,
   "metadata": {},
   "outputs": [],
   "source": []
  }
 ],
 "metadata": {
  "kernelspec": {
   "display_name": "Python 3",
   "language": "python",
   "name": "python3"
  },
  "language_info": {
   "codemirror_mode": {
    "name": "ipython",
    "version": 3
   },
   "file_extension": ".py",
   "mimetype": "text/x-python",
   "name": "python",
   "nbconvert_exporter": "python",
   "pygments_lexer": "ipython3",
   "version": "3.7.3"
  }
 },
 "nbformat": 4,
 "nbformat_minor": 2
}
